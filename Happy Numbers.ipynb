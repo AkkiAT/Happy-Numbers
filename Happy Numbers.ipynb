{
 "cells": [
  {
   "cell_type": "code",
   "execution_count": 3,
   "metadata": {},
   "outputs": [
    {
     "name": "stdout",
     "output_type": "stream",
     "text": [
      "Happy Numbers between 1 and 100: \n",
      "[1, 7, 10, 13, 19, 23, 28, 31, 32, 44, 49, 68, 70, 79, 82, 86, 91, 94, 97, 100]\n"
     ]
    }
   ],
   "source": [
    "#Happy NUmbers\n",
    "def is_happy_number(num):\n",
    "    seen = set()\n",
    "    \n",
    "    while num != 1 and num not in seen:\n",
    "        seen.add(num)\n",
    "        num =  sum(int(i) ** 2 for i in str(num))\n",
    "        \n",
    "    return num == 1\n",
    "happy_numbers = []\n",
    "\n",
    "for num in range(1, 101):\n",
    "    if is_happy_number(num):\n",
    "        happy_numbers.append(num)\n",
    "        \n",
    "print(\"Happy Numbers between 1 and 100: \")\n",
    "print(happy_numbers)            "
   ]
  }
 ],
 "metadata": {
  "kernelspec": {
   "display_name": ".venv",
   "language": "python",
   "name": "python3"
  },
  "language_info": {
   "codemirror_mode": {
    "name": "ipython",
    "version": 3
   },
   "file_extension": ".py",
   "mimetype": "text/x-python",
   "name": "python",
   "nbconvert_exporter": "python",
   "pygments_lexer": "ipython3",
   "version": "3.12.2"
  }
 },
 "nbformat": 4,
 "nbformat_minor": 2
}
